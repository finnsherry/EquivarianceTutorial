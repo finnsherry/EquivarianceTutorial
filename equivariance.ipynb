{
 "cells": [
  {
   "cell_type": "markdown",
   "id": "8fb68fa1",
   "metadata": {},
   "source": [
    "# Equivariance Tutorial"
   ]
  },
  {
   "cell_type": "code",
   "execution_count": null,
   "id": "f7e9d14d",
   "metadata": {},
   "outputs": [],
   "source": [
    "import torch\n",
    "from torch.nn.functional import affine_grid, grid_sample, pad, relu\n",
    "from torchvision.io import read_image\n",
    "import lietorch\n",
    "import matplotlib.pyplot as plt\n",
    "plt.rcParams['image.cmap'] = 'gray'\n",
    "extent = (-1, 1, -1, 1)"
   ]
  },
  {
   "cell_type": "code",
   "execution_count": null,
   "id": "9d55a197",
   "metadata": {},
   "outputs": [],
   "source": [
    "shoe = read_image(\"images/shoe.png\")[None, ...] / 255.\n",
    "dress = read_image(\"images/dress.png\")[None, ...] / 255."
   ]
  },
  {
   "cell_type": "code",
   "execution_count": null,
   "id": "975665e2",
   "metadata": {},
   "outputs": [],
   "source": [
    "def transform(image, x, A, padding=True):\n",
    "    \"\"\"Apply action (x, A) to image with circular padding.\"\"\"\n",
    "    B, C, H, W = image.shape\n",
    "    x = torch.tensor([-1., 1.]) * x\n",
    "    affine_matrix = torch.hstack((torch.linalg.inv(A.T), x[None, ...].T / 3))\n",
    "    if padding:\n",
    "        image = pad(image, (W, W, H, H), mode=\"circular\")\n",
    "        grid = affine_grid(affine_matrix[None, ...], (B, C, 3 * H, 3 * W), align_corners=False)\n",
    "        return grid_sample(image, grid, align_corners=False)[..., H:2*H, W:2*W]\n",
    "    else:\n",
    "        grid = affine_grid(affine_matrix[None, ...], (B, C, H, W), align_corners=False)\n",
    "        return grid_sample(image, grid, align_corners=False)"
   ]
  },
  {
   "cell_type": "markdown",
   "id": "474be669",
   "metadata": {},
   "source": [
    "## Theory"
   ]
  },
  {
   "cell_type": "markdown",
   "id": "a0fc9028",
   "metadata": {},
   "source": [
    "### Lie Groups"
   ]
  },
  {
   "cell_type": "markdown",
   "id": "cbda144d",
   "metadata": {},
   "source": [
    "> **Definition (Lie Group)** $G$ is a _Lie group_ if it is \n",
    "> 1. a _smooth manifold_ - so smooth and looks locally like $\\mathbb{R}^n$ - and\n",
    "> 2. a _group_ - we have a smooth, well-behaved product $\\cdot: G \\times G \\to G$.\n",
    "\n",
    "The most important Lie groups (imo) encode continuous symmetries on other spaces, with the group product simply given by composition.\n",
    "\n",
    "> **Example (Translation Group)**\n",
    "> The $n$-dimensional _translation group_ $\\mathbb{R}^n$ acts on Euclidean space $\\mathbb{R}^n$ by translation, namely\n",
    "> $$ (\\mathbf{x}, \\mathbf{y}) \\mapsto \\mathbf{x} + \\mathbf{y}, $$\n",
    "> and has group product\n",
    "> $$ (\\mathbf{x}, \\mathbf{y}) \\mapsto \\mathbf{x} + \\mathbf{y}. $$\n",
    "Of course, this is an incredibly boring example. \n",
    "Slightly less trivial is the following:\n",
    "> **Example (Special Orthogonal Group)**\n",
    "> The _special orthogonal group_ $\\operatorname{SO}(n)$ acts on Euclidean space $\\mathbb{R}^n$ by rotation, namely\n",
    "> $$ (R, \\mathbf{y}) \\mapsto R\\mathbf{y}, $$\n",
    "> and has group product\n",
    "> $$ (R, S) \\mapsto RS. $$\n",
    "Here, we represent the elements of $\\operatorname{SO}(n)$ as $n \\times n$ orthogonal matrices with determinant $1$. \n",
    "For example, in two dimensions the counter-clockwise rotation by angle $\\theta$ is given by\n",
    "$$ R = \\begin{pmatrix} \\cos(\\theta) & -\\sin(\\theta) \\\\\n",
    "\\sin(\\theta) & \\cos(\\theta) \\end{pmatrix}. $$\n",
    "\n",
    "\n",
    "Note that in this example the group and the space that is acted on can no longer be identified.\n",
    "\n",
    "We get our favourite group by combining the two previous ones:\n",
    "> **Example (Special Euclidean Group)**\n",
    "> The _special Euclidean group_ $\\operatorname{SE}(n)$ acts on Euclidean space $\\mathbb{R}^n$ by roto-translation, namely\n",
    "> $$ ((\\mathbf{x}, R), \\mathbf{y}) \\mapsto \\mathbf{x} + R\\mathbf{y}, $$\n",
    "> and has group product\n",
    "> $$ ((\\mathbf{x}, R), (\\mathbf{y}, S)) \\mapsto (\\mathbf{x} + R\\mathbf{y}, RS). $$\n"
   ]
  },
  {
   "cell_type": "markdown",
   "id": "cb35a781",
   "metadata": {},
   "source": [
    "Many problems have inherent symmetries. For example, if we want to classify the object in an image, rotating the object shouldn't change the classification: "
   ]
  },
  {
   "cell_type": "code",
   "execution_count": null,
   "id": "8db71d15",
   "metadata": {},
   "outputs": [],
   "source": [
    "fig, ax = plt.subplots(1, 2, figsize=(10, 5))\n",
    "ax[0].set_axis_off()\n",
    "ax[1].set_axis_off()\n",
    "ax[0].set_title(\"Shoe\")\n",
    "ax[1].set_title(\"Still a shoe\")\n",
    "ax[0].imshow(shoe.squeeze())\n",
    "x = torch.tensor([0., 0.])\n",
    "theta = torch.tensor([-0.862364]) # Random number\n",
    "R = torch.tensor([\n",
    "    [torch.cos(theta), -torch.sin(theta)],\n",
    "    [torch.sin(theta), torch.cos(theta)]\n",
    "])\n",
    "ax[1].imshow(transform(shoe, x, R, padding=False).squeeze());"
   ]
  },
  {
   "cell_type": "markdown",
   "id": "988d66dc",
   "metadata": {},
   "source": [
    "Lie groups give us a mathematically formal way of thinking about these symmetries."
   ]
  },
  {
   "cell_type": "markdown",
   "id": "27efb92e",
   "metadata": {},
   "source": [
    "### Group Representations"
   ]
  },
  {
   "cell_type": "markdown",
   "id": "f9115df5",
   "metadata": {},
   "source": [
    "An important ingredient in this mathematical formalism is the notion of _group representations_:\n",
    "> **Definition (Group Representation)** Let $G$ be a Lie group and $V$ a vector space. Then we call a homomorphism $\\mathcal{U} : G \\to \\operatorname{GL}(V)$ a _group representation_.\n",
    "\n",
    "The idea is that we can represent elements of $G$ as operators on $V$.\n",
    "(Quasi-)regular representations form the most important class of representations for us.\n",
    "> **Definition (Quasi-Regular Representation)** Let $G$ act transitively on $X$, i.e. for all $x, y \\in X$ there exists a $g \\in G$ such that $g x = y$.\n",
    "> Then the induced _quasi-regular representation_ $\\mathcal{U}: G \\to \\operatorname{GL}(\\mathbb{L}_2(X))$ is given by\n",
    "> $$ \\mathcal{U}_g f(x) := f(g^{-1} x). $$\n",
    "In fact, we have already seen such a quasi-regular representation: we rotated the shoe above (say in $\\mathbb{L}_2(\\mathbb{R}^2)$) by rotating the domain (say $\\mathbb{R}^2$) the other way.\n",
    "\n",
    "Here, you can play around with the quasi-regular representation of $\\operatorname{SE}(2)$ on $\\mathbb{R}^2$:"
   ]
  },
  {
   "cell_type": "code",
   "execution_count": null,
   "id": "a7e141b2",
   "metadata": {},
   "outputs": [],
   "source": [
    "fig, ax = plt.subplots(1, 2, figsize=(10, 5))\n",
    "x = torch.tensor([0., 0.])\n",
    "R = torch.tensor([[1., 0.], [0., 1.]])\n",
    "ax[0].imshow(transform(shoe, x, R).squeeze(), extent=extent)\n",
    "\n",
    "# Your roto-translation here ⬇️\n",
    "x = torch.tensor([0., 0.])\n",
    "theta = torch.tensor([0.])\n",
    "R = torch.tensor([\n",
    "    [torch.cos(theta), -torch.sin(theta)],\n",
    "    [torch.sin(theta), torch.cos(theta)]\n",
    "])\n",
    "ax[1].imshow(transform(shoe, x, R).squeeze(), extent=extent);"
   ]
  },
  {
   "cell_type": "markdown",
   "id": "9c0ee49f",
   "metadata": {},
   "source": [
    "I'll mention two more important classes of group representations. $G$ naturally acts on itself; in this case the induced quasi-regular representation is simply called the _regular representation_. Finally, we have the _trivial representation_:\n",
    "> **Definition (Trivial Representation)** Let $G$ be a Lie group and $V$ a vector space. Then we call $\\mathcal{U} : G \\to \\operatorname{GL}(V)$ given by $g \\mapsto \\operatorname{id}_V$ the _trivial representation_."
   ]
  },
  {
   "cell_type": "markdown",
   "id": "6b2c953e",
   "metadata": {},
   "source": [
    "### Equivariance"
   ]
  },
  {
   "cell_type": "markdown",
   "id": "de73448c",
   "metadata": {},
   "source": [
    "We can formalise the notion of symmetry preservation using group representations, arriving at the concept of _equivariance_:\n",
    "> **Definition (Equivariance)** Let $G$ be a Lie group, let $U$ and $V$ be vector spaces, and let $\\mathcal{U}: G \\to \\operatorname{GL}(U)$ and $\\mathcal{V}: G \\to \\operatorname{GL}(V)$ be representations. \n",
    "> $\\Phi: U \\to V$ is called _equivariant_ if it commutes with these representations, i.e.\n",
    "> $$ \\Phi \\circ \\mathcal{U} = \\mathcal{V} \\circ \\Phi. $$\n",
    "\n",
    "If the representation $\\mathcal{V}$ is trivial, then we say $\\Phi$ is _invariant_. \n",
    "\n",
    "Let's work this out for our classification problem.\n",
    "- We have a classifier $\\Phi: \\mathbb{L}_2(\\mathbb{R}^2) \\to \\mathbb{R}^c$, where $c$ is the number of classes.\n",
    "- The Lie group $\\operatorname{SE}(2)$ acts on $\\mathbb{R}^2$ by roto-translation, inducing the corresponding quasi-regular representation $\\mathcal{U}: \\operatorname{SE}(2) \\to \\operatorname{GL}(\\mathbb{L}_2(\\mathbb{R}^2))$.\n",
    "- $\\operatorname{SE}(2)$ acts trivially on the range, so we have the representation $\\mathcal{V}: \\operatorname{SE}(2) \\to \\operatorname{GL}(\\mathbb{R}^c)$ given by $\\mathcal{V}_g = \\operatorname{id}_{\\mathbb{R}^c}$ for all $g \\in \\operatorname{SE}(2)$.\n",
    "\n",
    "Then the classifier is invariant if $\\Phi \\circ \\mathcal{U}_g = \\mathcal{V}_g \\circ \\Phi = \\Phi$ for all $g \\in \\operatorname{SE}(2)$."
   ]
  },
  {
   "cell_type": "markdown",
   "id": "9118f875",
   "metadata": {},
   "source": [
    "In this problem invariance is clearly a desirable property. But how would we go about constructing an invariant classifier? \n",
    "\n",
    "We could train a normal convolutional neural network, and hope that it learns to be invariant. This is highly unlikely, unless we perform _data augmentation_ - - and even then there are no guarantees.\n",
    "\n",
    "Alternatively, we could construct a neural network architecture that is inherently invariant. For this, we can make use of the following result:\n",
    "> **Lemma (Composition of Equivariant Maps)** Let $G$ be a Lie group, let $U$, $V$, and $W$ be vector spaces, and let $\\mathcal{U}: G \\to \\operatorname{GL}(U)$, $\\mathcal{V}: G \\to \\operatorname{GL}(V)$, and \n",
    "> $\\mathcal{W}: G \\to \\operatorname{GL}(W)$ be representations. Suppose $\\Phi: U \\to V$ and $\\Psi: V \\to W$ are equivariant. Then, their composition $\\Psi \\circ \\Phi: U \\to W$ is also equivariant. \n",
    "\n",
    "_proof_: Simply note that $\\Psi \\circ \\Phi \\circ \\mathcal{U} = \\Psi \\circ \\mathcal{V} \\circ \\Phi = \\mathcal{W} \\circ \\Psi \\circ \\Phi$.\n",
    "\n",
    "Hence, we can make an equivariant neural network architecture by composing equivariant layers. A typical layer in a neural network consists of the composition of something linear (e.g. matrix multiplication, convolution, linear combinations) with something nonlinear (e.g. activation function, normalisation). Common nonlinearities such as the ReLU activation function and batch normalisation act point-wise; it is not hard to see that these are equivariant operations."
   ]
  },
  {
   "cell_type": "code",
   "execution_count": null,
   "id": "2b233b25",
   "metadata": {},
   "outputs": [],
   "source": [
    "fig, ax = plt.subplots(1, 2, figsize=(10, 5))\n",
    "ax[0].set_axis_off()\n",
    "ax[1].set_axis_off()\n",
    "ax[0].set_title(\"ReLUed Shoe\")\n",
    "ax[1].set_title(\"Still a ReLUed shoe\")\n",
    "ax[0].imshow(relu(shoe - 0.5).squeeze())\n",
    "x = torch.tensor([0., 0.])\n",
    "theta = torch.tensor([-0.862364]) # Random number\n",
    "R = torch.tensor([\n",
    "    [torch.cos(theta), -torch.sin(theta)],\n",
    "    [torch.sin(theta), torch.cos(theta)]\n",
    "])\n",
    "ax[1].imshow(relu(transform(shoe, x, R, padding=False) - 0.5).squeeze());"
   ]
  },
  {
   "cell_type": "markdown",
   "id": "45fc8457",
   "metadata": {},
   "source": [
    "### Lifting"
   ]
  },
  {
   "cell_type": "markdown",
   "id": "711bdbce",
   "metadata": {},
   "source": [
    "## Application"
   ]
  },
  {
   "cell_type": "code",
   "execution_count": null,
   "id": "67189036",
   "metadata": {},
   "outputs": [],
   "source": []
  }
 ],
 "metadata": {
  "kernelspec": {
   "display_name": "equivariance",
   "language": "python",
   "name": "python3"
  },
  "language_info": {
   "codemirror_mode": {
    "name": "ipython",
    "version": 3
   },
   "file_extension": ".py",
   "mimetype": "text/x-python",
   "name": "python",
   "nbconvert_exporter": "python",
   "pygments_lexer": "ipython3",
   "version": "3.13.7"
  }
 },
 "nbformat": 4,
 "nbformat_minor": 5
}
